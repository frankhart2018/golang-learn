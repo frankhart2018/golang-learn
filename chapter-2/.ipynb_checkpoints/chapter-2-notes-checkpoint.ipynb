{
 "cells": [
  {
   "cell_type": "markdown",
   "metadata": {},
   "source": [
    "# 2.1 Names\n",
    "\n",
    "- There are 25 keywords in golang.\n",
    "<br><br>\n",
    "- Identifiers start with a unicode character.\n",
    "<br><br>\n",
    "- Case matters.\n",
    "<br><br>\n",
    "- If an entity is declared inside a function, it will be local to that function. On the other hand, if it is declared  outside any function then it is visible in all files of the package to which it belongs.\n",
    "<br><br>\n",
    "- If the identifier begins with an uppercase letter, then it is exported, which means that it will be visible and accessible outside of its own package and may be referred to by other parts of the program, like Printf in fmt.\n",
    "<br><br>\n",
    "- Package names are always lowercase.\n",
    "<br><br>\n",
    "- Stylistically camel case is used.\n",
    "<br><br>\n",
    "- The letters of acronyms are always uppercase, like initialHTML and not initialHtml."
   ]
  },
  {
   "cell_type": "markdown",
   "metadata": {},
   "source": [
    "# 2.2 Declarations\n",
    "\n",
    "- There are four major types of declarations - var, const, type, and func.\n",
    "<br><br>\n",
    "- Each go file begins with a package declaration, followed by import statements and then sequence of package level  declarations."
   ]
  },
  {
   "cell_type": "markdown",
   "metadata": {},
   "source": [
    "# 2.3 Variables\n",
    "\n",
    "- General form of variable declaration:-\n",
    "\n",
    "```go\n",
    "var name type = expression\n",
    "```\n",
    "\n",
    "- Either the type or the expression can be ommited but not both.\n",
    "<br><br>\n",
    "- Zero value for numeric types is 0, for string is \"\", for boolean value is false, and nil for interfaces and reference types.\n",
    "<br><br>\n",
    "- There is no thing called \"uninitialized variable\" in golang.\n",
    "<br><br>\n",
    "- A set of variables can also be initialized by calling a function that returns multiple values:-  \n",
    "\n",
    "```go\n",
    "var f, err =  os.Open(name) // os.Open returns a file and an error\n",
    "```\n",
    "\n",
    "## 2.3.1 Short Variable Declarations\n",
    "\n",
    "- This is used inside functions to declare and initialize local variables.\n",
    "<br><br>\n",
    "- The syntax is:-\n",
    "\n",
    "```go\n",
    "name := expression\n",
    "```\n",
    "\n",
    "- Here the type of name is determined by the type of expression. Some examples are:-\n",
    "\n",
    "```go\n",
    "anim := gif.GIF{LoopCount: nframes}\n",
    "freq := rand.Float64() * 3.0\n",
    "t := 0.0\n",
    "```\n",
    "\n",
    "- Most of local variables are defined using this method only and the var declaration is used to explicitly give some type to  variable.\n",
    "<br><br>\n",
    "- A short variable declaration does not always declare all the variables on the left side, if it is already declared then this is just an assignment for that variable.\n",
    "<br><br>\n",
    "- A short variable should declare atleast one new variable so the following code will not work:-\n",
    "\n",
    "```go\n",
    "f, err := os.Open(infile)\n",
    "// ...\n",
    "f, err := os.Create(outfile) // compile error: no new variables\n",
    "```\n",
    "\n",
    "- A short variable declaration acts as assignment only to variables that were declared in the same lexical block, declarations in an outer block are ignored.\n",
    "\n",
    "## 2.3.2 Pointers\n",
    "\n",
    "```go\n",
    "x := 1\n",
    "p := &x          // p, of type *int, points to x\n",
    "fmt.Println(*p)  // \"1\"\n",
    "*p = 2           // equivalent to x = 2\n",
    "fmt.Println(x)   // \"2\"\n",
    "```\n",
    "\n",
    "- The zero value of a pointer of any type is nil.\n",
    "<br><br>\n",
    "- Two pointers are equal if they point to the same variable or both are nil."
   ]
  },
  {
   "cell_type": "code",
   "execution_count": null,
   "metadata": {},
   "outputs": [],
   "source": []
  }
 ],
 "metadata": {
  "kernelspec": {
   "display_name": "Python 3",
   "language": "python",
   "name": "python3"
  },
  "language_info": {
   "codemirror_mode": {
    "name": "ipython",
    "version": 3
   },
   "file_extension": ".py",
   "mimetype": "text/x-python",
   "name": "python",
   "nbconvert_exporter": "python",
   "pygments_lexer": "ipython3",
   "version": "3.7.4"
  }
 },
 "nbformat": 4,
 "nbformat_minor": 2
}
